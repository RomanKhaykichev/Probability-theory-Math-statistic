{
 "cells": [
  {
   "cell_type": "markdown",
   "metadata": {},
   "source": [
    "### Task_1. Расчет вероятности случайных событий"
   ]
  },
  {
   "cell_type": "markdown",
   "metadata": {},
   "source": [
    "![combinatorica](combinatorica.png)"
   ]
  },
  {
   "cell_type": "code",
   "execution_count": 2,
   "metadata": {},
   "outputs": [],
   "source": [
    "from math import factorial as f"
   ]
  },
  {
   "cell_type": "markdown",
   "metadata": {},
   "source": [
    "$$W(A) =\\frac{m}{n}$$"
   ]
  },
  {
   "cell_type": "markdown",
   "metadata": {},
   "source": [
    "#### 1. Из колоды в 52 карты извлекаются случайным образом 4 карты."
   ]
  },
  {
   "cell_type": "markdown",
   "metadata": {},
   "source": [
    "a) Найти вероятность того, что все карты – крести."
   ]
  },
  {
   "cell_type": "markdown",
   "metadata": {},
   "source": [
    "$$C_n^k=\\frac{n!}{k!(n-k)!}$$"
   ]
  },
  {
   "cell_type": "markdown",
   "metadata": {},
   "source": [
    "Example:\n",
    "$$W(A) = \\frac{m}{n} = \\frac{C_{13}^4}{C_{52}^4}=\\frac{\\frac{13!}{4!(13-4)!}}{\\frac{52!}{4!(52-4)!}} = \\frac{\\frac{13!}{4!*9!}}{\\frac{52!}{4!*48!}}= \\frac{\\frac{10*11*12*13}{4}}{\\frac{49*50*51*52}{4!}}=\\frac{5*11*13}{49*25*17*13}=\\frac{715}{270725}=0,0026 \\approx 0,26\\% $$"
   ]
  },
  {
   "cell_type": "code",
   "execution_count": 22,
   "metadata": {},
   "outputs": [],
   "source": [
    "# функция сочетания\n",
    "def C(k,n):\n",
    "    return f(n)/(f(k)*f(n-k))"
   ]
  },
  {
   "cell_type": "code",
   "execution_count": 58,
   "metadata": {},
   "outputs": [
    {
     "name": "stdout",
     "output_type": "stream",
     "text": [
      "Вероятность = 0.26%\n"
     ]
    }
   ],
   "source": [
    "# p = m/n - число появлений событий / общее число испытаний\n",
    "m = C(4,13) # сочетание 4 из 13 крести\n",
    "n = C(4,52) # берем 4 из 52 карт\n",
    "p = m/n\n",
    "print(f'Вероятность = {p*100:.2f}%')"
   ]
  },
  {
   "cell_type": "markdown",
   "metadata": {},
   "source": [
    "б) Найти вероятность, что среди 4-х карт окажется хотя бы один туз."
   ]
  },
  {
   "cell_type": "code",
   "execution_count": 60,
   "metadata": {},
   "outputs": [
    {
     "name": "stdout",
     "output_type": "stream",
     "text": [
      "Вероятность = 28.13%\n"
     ]
    }
   ],
   "source": [
    "# p = p1+p2+p3+p4 - сумма событий\n",
    "n = C(4,52) # берем 4 из 52 карт\n",
    "p1 = C(1,4)*C(3,48)/n # 1 туз 3 других\n",
    "p2 = C(2,4)*C(2,48)/n # 2 туза \n",
    "p3 = C(3,4)*C(1,48)/n # 3 туза\n",
    "p4 = C(4,4)/n         # 4 туза\n",
    "p = p1+p2+p3+p4\n",
    "print(f'Вероятность = {p*100:.2f}%')"
   ]
  },
  {
   "cell_type": "markdown",
   "metadata": {},
   "source": [
    "#### 2. На входной двери подъезда установлен кодовый замок, содержащий десять кнопок с цифрами от 0 до 9. <p>Код содержит три цифры, которые нужно нажать одновременно. <p>Какова вероятность того, что человек, не знающий код, откроет дверь с первой попытки?"
   ]
  },
  {
   "cell_type": "markdown",
   "metadata": {},
   "source": [
    "$$A^k_n=\\frac{n!}{(n-k)!}$$"
   ]
  },
  {
   "cell_type": "code",
   "execution_count": 42,
   "metadata": {},
   "outputs": [],
   "source": [
    "# функция размещения\n",
    "def A(k,n):\n",
    "    return f(n)/f(n-k)    "
   ]
  },
  {
   "cell_type": "code",
   "execution_count": 61,
   "metadata": {},
   "outputs": [
    {
     "name": "stdout",
     "output_type": "stream",
     "text": [
      "Вероятность = 0.14%\n"
     ]
    }
   ],
   "source": [
    "# p = m/n\n",
    "m = 1 # с первой попытки\n",
    "n = A(3,10) # размещение 3 из 10 цифр\n",
    "p = m/n\n",
    "print(f'Вероятность = {p*100:.2f}%')"
   ]
  },
  {
   "cell_type": "markdown",
   "metadata": {},
   "source": [
    "#### 3. В ящике имеется 15 деталей, из которых 9 окрашены. <p>Рабочий случайным образом извлекает 3 детали. <p>Какова вероятность того, что все извлеченные детали окрашены?"
   ]
  },
  {
   "cell_type": "markdown",
   "metadata": {},
   "source": [
    "$$P(A)=P(B_1)*P(A|B_1)+P(B_2)*P(A|B_2)$$"
   ]
  },
  {
   "cell_type": "code",
   "execution_count": 64,
   "metadata": {},
   "outputs": [
    {
     "name": "stdout",
     "output_type": "stream",
     "text": [
      "Вероятность = 65.05%\n"
     ]
    }
   ],
   "source": [
    "# p = pb_1*pab_1+pb_2*pab_2 - полная вероятность\n",
    "pb_1 = C(1,9)/C(1,15) # событие В1\n",
    "pab_1 = C(1,8)/C(1,14) # событие В1 при наступлении события А\n",
    "pb_2 = C(1,8)/C(1,14) # событие В2\n",
    "pab_2 = C(1,7)/C(1,13) # событие В2 при наступлении события А\n",
    "p = pb_1*pab_1+pb_2*pab_2\n",
    "print(f'Вероятность = {p*100:.2f}%')"
   ]
  },
  {
   "cell_type": "markdown",
   "metadata": {},
   "source": [
    "#### 4. В лотерее 100 билетов. Из них 2 выигрышных. <p>Какова вероятность того, что 2 приобретенных билета окажутся выигрышными?"
   ]
  },
  {
   "cell_type": "code",
   "execution_count": 66,
   "metadata": {},
   "outputs": [
    {
     "name": "stdout",
     "output_type": "stream",
     "text": [
      "Вероятность = 0.02%\n"
     ]
    }
   ],
   "source": [
    "m = C(2,2) # сочетание 2 из 2\n",
    "n = C(2,100) # сочентание 2 из 100\n",
    "p = m/n\n",
    "print(f'Вероятность = {p*100:.2f}%')"
   ]
  }
 ],
 "metadata": {
  "kernelspec": {
   "display_name": "Python 3",
   "language": "python",
   "name": "python3"
  },
  "language_info": {
   "codemirror_mode": {
    "name": "ipython",
    "version": 3
   },
   "file_extension": ".py",
   "mimetype": "text/x-python",
   "name": "python",
   "nbconvert_exporter": "python",
   "pygments_lexer": "ipython3",
   "version": "3.11.3"
  }
 },
 "nbformat": 4,
 "nbformat_minor": 2
}
