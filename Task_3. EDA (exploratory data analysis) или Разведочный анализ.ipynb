{
 "cells": [
  {
   "cell_type": "markdown",
   "metadata": {},
   "source": [
    "## Урок 3. EDA (exploratory data analysis) или Разведочный анализ"
   ]
  },
  {
   "cell_type": "code",
   "execution_count": 123,
   "metadata": {},
   "outputs": [],
   "source": [
    "import numpy as np"
   ]
  },
  {
   "cell_type": "markdown",
   "metadata": {},
   "source": [
    "### 1. Даны значения зарплат из выборки выпускников: 100, 80, 75, 77, 89, 33, 45, 25, 65, 17, 30, 24, 57, 55, 70, 75, 65, 84, 90, 150.\n",
    "Посчитать (желательно без использования статистических методов наподобие std, var, mean):<p>\n",
    "<li>среднее арифметическое</li><li>среднее квадратичное отклонение</li><li>смещенную и несмещенную оценки дисперсий для данной выборки</li>"
   ]
  },
  {
   "cell_type": "code",
   "execution_count": 124,
   "metadata": {},
   "outputs": [
    {
     "data": {
      "text/plain": [
       "array([ 17,  24,  25,  30,  33,  45,  55,  57,  65,  65,  70,  75,  75,\n",
       "        77,  80,  84,  89,  90, 100, 150])"
      ]
     },
     "execution_count": 124,
     "metadata": {},
     "output_type": "execute_result"
    }
   ],
   "source": [
    "# \n",
    "salary_array = np.array([100, 80, 75, 77, 89, 33, 45, 25, 65, 17, 30, 24, 57, 55, 70, 75, 65, 84, 90, 150])\n",
    "salary_array.sort()\n",
    "salary_array"
   ]
  },
  {
   "cell_type": "code",
   "execution_count": 125,
   "metadata": {},
   "outputs": [
    {
     "data": {
      "text/plain": [
       "20"
      ]
     },
     "execution_count": 125,
     "metadata": {},
     "output_type": "execute_result"
    }
   ],
   "source": [
    "# длинна\n",
    "len_array = salary_array.size\n",
    "len_array"
   ]
  },
  {
   "cell_type": "markdown",
   "metadata": {},
   "source": [
    "<li>среднее арифметическое</li>"
   ]
  },
  {
   "cell_type": "markdown",
   "metadata": {},
   "source": [
    "$\\bar{x} =\\frac{1}{m} \\sum^m_{i=1}x_i$"
   ]
  },
  {
   "cell_type": "code",
   "execution_count": 126,
   "metadata": {},
   "outputs": [
    {
     "name": "stdout",
     "output_type": "stream",
     "text": [
      "среднее арифметическое 65.3\n"
     ]
    }
   ],
   "source": [
    "# среднее арифметическое\n",
    "std_salary = sum(salary_array)/len_array\n",
    "print(f'среднее арифметическое {std_salary}')"
   ]
  },
  {
   "cell_type": "code",
   "execution_count": 127,
   "metadata": {},
   "outputs": [
    {
     "data": {
      "text/plain": [
       "65.3"
      ]
     },
     "execution_count": 127,
     "metadata": {},
     "output_type": "execute_result"
    }
   ],
   "source": [
    "# Ver_2\n",
    "salary_array.mean()"
   ]
  },
  {
   "cell_type": "markdown",
   "metadata": {},
   "source": [
    "<li>среднее квадратичное отклонение</li>"
   ]
  },
  {
   "cell_type": "markdown",
   "metadata": {},
   "source": [
    "Генеральная совокупность:<p>\n",
    "$\\sigma = \\sqrt{\\frac{\\sum_{i=1}^m(x_i-\\bar{x})^2}{m}}$"
   ]
  },
  {
   "cell_type": "code",
   "execution_count": 128,
   "metadata": {},
   "outputs": [],
   "source": [
    "# функция - сумма (каждое число - среднее отклонение) в квадрате\n",
    "def sum_x_minus_x(array, std):\n",
    "    arr = []\n",
    "    for i in list(array):\n",
    "        arr.append(pow(i-std,2))\n",
    "    return sum(arr)\n",
    "\n",
    "sum_x_pow = sum_x_minus_x(salary_array, std_salary)"
   ]
  },
  {
   "cell_type": "code",
   "execution_count": 129,
   "metadata": {},
   "outputs": [
    {
     "name": "stdout",
     "output_type": "stream",
     "text": [
      "среднее квадратичное отклонение 30.823854398825596\n"
     ]
    }
   ],
   "source": [
    "# сигма\n",
    "sigma = np.sqrt(sum_x_pow/len_array)\n",
    "print(f'среднее квадратичное отклонение {sigma}')"
   ]
  },
  {
   "cell_type": "code",
   "execution_count": 130,
   "metadata": {},
   "outputs": [
    {
     "data": {
      "text/plain": [
       "30.823854398825592"
      ]
     },
     "execution_count": 130,
     "metadata": {},
     "output_type": "execute_result"
    }
   ],
   "source": [
    "# Ver_2\n",
    "np.std(salary_array)"
   ]
  },
  {
   "cell_type": "markdown",
   "metadata": {},
   "source": [
    "Выборка:<p>\n",
    "$s= \\sqrt{\\frac{\\sum_{i=1}^n(x_i-\\bar{x})^2}{n-1}}$"
   ]
  },
  {
   "cell_type": "code",
   "execution_count": 131,
   "metadata": {},
   "outputs": [
    {
     "name": "stdout",
     "output_type": "stream",
     "text": [
      "среднее квадратичное отклонение 31.624607341019814\n"
     ]
    }
   ],
   "source": [
    "# s\n",
    "s = np.sqrt(sum_x_pow/(len_array-1))\n",
    "print(f'среднее квадратичное отклонение {s}')"
   ]
  },
  {
   "cell_type": "code",
   "execution_count": 132,
   "metadata": {},
   "outputs": [
    {
     "data": {
      "text/plain": [
       "31.62460734101981"
      ]
     },
     "execution_count": 132,
     "metadata": {},
     "output_type": "execute_result"
    }
   ],
   "source": [
    "# Ver_2\n",
    "np.std(salary_array, ddof=1)"
   ]
  },
  {
   "cell_type": "markdown",
   "metadata": {},
   "source": [
    "<li>смещенную и несмещенную оценки дисперсий для данной выборки</li>"
   ]
  },
  {
   "cell_type": "markdown",
   "metadata": {},
   "source": [
    "Смещенная оценка дисперсии:<p>\n",
    "$\\sigma^2 = \\frac{\\sum_{i=1}^m(x_i-\\bar{x})^2}{m}$"
   ]
  },
  {
   "cell_type": "code",
   "execution_count": 133,
   "metadata": {},
   "outputs": [
    {
     "name": "stdout",
     "output_type": "stream",
     "text": [
      "Смещенная оценка дисперсии 950.11\n"
     ]
    }
   ],
   "source": [
    "# Генеральная совокупность\n",
    "sigma_pow = sum_x_pow/len_array\n",
    "print(f'Смещенная оценка дисперсии {sigma_pow}')"
   ]
  },
  {
   "cell_type": "code",
   "execution_count": 134,
   "metadata": {},
   "outputs": [
    {
     "data": {
      "text/plain": [
       "950.1099999999999"
      ]
     },
     "execution_count": 134,
     "metadata": {},
     "output_type": "execute_result"
    }
   ],
   "source": [
    "# Ver_2\n",
    "np.var(salary_array)"
   ]
  },
  {
   "cell_type": "markdown",
   "metadata": {},
   "source": [
    "Несмещенная оценка дисперсии:<p>\n",
    "$s^2 = \\frac{\\sum_{i=1}^n(x_i-\\bar{x})^2}{n-1}$"
   ]
  },
  {
   "cell_type": "code",
   "execution_count": 135,
   "metadata": {},
   "outputs": [
    {
     "name": "stdout",
     "output_type": "stream",
     "text": [
      "Несмещенная оценка дисперсии 1000.1157894736842\n"
     ]
    }
   ],
   "source": [
    "# Выборка (объем выборки < 100)\n",
    "s_pow = sum_x_pow/(len_array-1)\n",
    "print(f'Несмещенная оценка дисперсии {s_pow}')"
   ]
  },
  {
   "cell_type": "code",
   "execution_count": 136,
   "metadata": {},
   "outputs": [
    {
     "data": {
      "text/plain": [
       "1000.115789473684"
      ]
     },
     "execution_count": 136,
     "metadata": {},
     "output_type": "execute_result"
    }
   ],
   "source": [
    "# Ver_2\n",
    "np.var(salary_array, ddof=1)"
   ]
  },
  {
   "cell_type": "markdown",
   "metadata": {},
   "source": [
    "Нечетное число элементов:\n",
    "$$N_{(\\frac{n+1}{2})}$$\n",
    "\n",
    "Четное число элементов:\n",
    "$$\\frac{N_{(\\frac{n}{2})} + N_{(\\frac{n}{2}+1)}}{2}$$"
   ]
  },
  {
   "cell_type": "code",
   "execution_count": 137,
   "metadata": {},
   "outputs": [
    {
     "data": {
      "text/plain": [
       "67.5"
      ]
     },
     "execution_count": 137,
     "metadata": {},
     "output_type": "execute_result"
    }
   ],
   "source": [
    "# медиана\n",
    "(salary_array[9]+salary_array[10])/2 # берем 10 и 11 так как колличество 20"
   ]
  },
  {
   "cell_type": "markdown",
   "metadata": {},
   "source": [
    "### 2. В первом ящике находится 8 мячей, из которых 5 - белые. Во втором ящике - 12 мячей, из которых 5 белых. Из первого ящика вытаскивают случайным образом два мяча, из второго - 4.\n",
    "Какова вероятность того, что 3 мяча белые?"
   ]
  },
  {
   "cell_type": "code",
   "execution_count": 138,
   "metadata": {},
   "outputs": [],
   "source": [
    "from math import factorial as f"
   ]
  },
  {
   "cell_type": "markdown",
   "metadata": {},
   "source": [
    "$$C_n^k=\\frac{n!}{k!(n-k)!}$$"
   ]
  },
  {
   "cell_type": "code",
   "execution_count": 139,
   "metadata": {},
   "outputs": [],
   "source": [
    "# функция сочетания\n",
    "def C(k,n):\n",
    "    return f(n)/(f(k)*f(n-k))"
   ]
  },
  {
   "cell_type": "markdown",
   "metadata": {},
   "source": [
    "В первом ящике 8 мячей = 5 белых, 3 черных - взяли 2 мяча<p>\n",
    "Во втором ящике 12 мячей = 5 белых, 7 черных - взяли 4"
   ]
  },
  {
   "cell_type": "code",
   "execution_count": 140,
   "metadata": {},
   "outputs": [
    {
     "name": "stdout",
     "output_type": "stream",
     "text": [
      "вероятность того, что 3 мяча белые =  36.87%\n"
     ]
    }
   ],
   "source": [
    "v_box_1 = C(2,8) #  общее число событий 1-го ящика\n",
    "v_box_2 = C(4,12) # общее число событий со 2-го ящика\n",
    "\n",
    "v_1 = C(0,5)*C(2,3)/v_box_1 * C(3,5)*C(1,7)/v_box_2 #  0 белых 2 черных * 3 белых 1 черный\n",
    "v_2 = C(1,5)*C(1,3)/v_box_1 * C(2,5)*C(2,7)/v_box_2 #  1 белый 1 черный * 2 белых 2 черных\n",
    "v_3 = C(2,5)*C(0,3)/v_box_1 * C(1,5)*C(3,7)/v_box_2 #  2 белых 0 черных * 1 белый 3 черных\n",
    "\n",
    "print(f'вероятность того, что 3 мяча белые =  {(v_1+v_2+v_3)*100:.2f}%')"
   ]
  },
  {
   "cell_type": "markdown",
   "metadata": {},
   "source": [
    "### 3. На соревновании по биатлону один из трех спортсменов стреляет и попадает в мишень. Вероятность попадания для первого спортсмена равна 0.9, для второго — 0.8, для третьего — 0.6.\n",
    "Найти вероятность того, что выстрел произведен:<p>\n",
    "a). первым спортсменом<p>\n",
    "б). вторым спортсменом<p>\n",
    "в).третьим спортсменом."
   ]
  },
  {
   "cell_type": "code",
   "execution_count": 141,
   "metadata": {},
   "outputs": [
    {
     "name": "stdout",
     "output_type": "stream",
     "text": [
      "a) первым спортсменом 39.13%\n",
      "б) вторым спортсменом 34.78%\n",
      "в) третьим спортсменом. 26.09%\n"
     ]
    }
   ],
   "source": [
    "# Вероятность попадания\n",
    "p_1 = 0.9 # для первого спортсмена\n",
    "p_2 = 0.8 # для второго \n",
    "p_3 = 0.6 # для третьего\n",
    "\n",
    "p0 = p_1+p_2+p_3 # общая вероятность\n",
    "\n",
    "print(f'a) первым спортсменом {(p_1/p0)*100:.2f}%')\n",
    "print(f'б) вторым спортсменом {(p_2/p0)*100:.2f}%')\n",
    "print(f'в) третьим спортсменом. {(p_3/p0)*100:.2f}%')"
   ]
  },
  {
   "cell_type": "markdown",
   "metadata": {},
   "source": [
    "### 4. В университет на факультеты A и B поступило равное количество студентов, а на факультет C студентов поступило столько же, сколько на A и B вместе. Вероятность того, что студент факультета A сдаст первую сессию, равна 0.8. Для студента факультета B эта вероятность равна 0.7, а для студента факультета C - 0.9. Студент сдал первую сессию. Какова вероятность, что он учится:\n",
    "a) на факультете A<p>\n",
    "б) на факультете B<p>\n",
    "в) на факультете C?"
   ]
  },
  {
   "cell_type": "code",
   "execution_count": 142,
   "metadata": {},
   "outputs": [
    {
     "name": "stdout",
     "output_type": "stream",
     "text": [
      "на факультете A = 24.24%\n",
      "на факультете В = 21.21%\n",
      "на факультете С = 54.55%\n"
     ]
    }
   ],
   "source": [
    "# a = b\n",
    "# c = a+b\n",
    "a = b = 1/4\n",
    "c = 2/4\n",
    "\n",
    "p_s = a*0.8 + b*0.7 + c*0.9 # общая вероятность\n",
    "\n",
    "print(f'на факультете A = {(a*0.8/p_s)*100:.2f}%')\n",
    "print(f'на факультете В = {(b*0.7/p_s)*100:.2f}%')\n",
    "print(f'на факультете С = {(c*0.9/p_s)*100:.2f}%')"
   ]
  },
  {
   "cell_type": "markdown",
   "metadata": {},
   "source": [
    "### 5. Устройство состоит из трех деталей. Для первой детали вероятность выйти из строя в первый месяц равна 0.1, для второй - 0.2, для третьей - 0.25.\n",
    "Какова вероятность того, что в первый месяц выйдут из строя:<p>\n",
    "а) все детали<p>\n",
    "б) только две детали<p>\n",
    "в) хотя бы одна деталь<p>\n",
    "г) от одной до двух деталей?"
   ]
  },
  {
   "cell_type": "code",
   "execution_count": 143,
   "metadata": {},
   "outputs": [
    {
     "name": "stdout",
     "output_type": "stream",
     "text": [
      "Вероятность того, что в первый месяц выйдут из строя:\n",
      "а) все детали =  0.5%\n",
      "б) только две детали =  8.0%\n",
      "в) хотя бы одна деталь =  37.5%\n",
      "г) от одной до двух деталей =  45.5%\n"
     ]
    }
   ],
   "source": [
    "p_1 = 0.1 # вероятность выйти из строя\n",
    "q_1 = 1-p_1 # вероятность работы\n",
    "\n",
    "p_2 = 0.2\n",
    "q_2 = 1-p_2\n",
    "\n",
    "p_3 = 0.25\n",
    "q_3 = 1-p_3\n",
    "\n",
    "print(f'Вероятность того, что в первый месяц выйдут из строя:')\n",
    "\n",
    "p_a = p_1*p_2*p_3\n",
    "print(f'а) все детали =  {(p_a)*100:.1f}%')\n",
    "\n",
    "p_b = p_1*p_2*q_3 + p_1*q_2*p_3 + q_1*p_2*p_3\n",
    "print(f'б) только две детали =  {(p_b)*100:.1f}%')\n",
    "\n",
    "p_c = p_1*q_2*q_3 + q_1*p_2*q_3 + q_1*q_2*p_3\n",
    "print(f'в) хотя бы одна деталь =  {(p_c)*100:.1f}%')\n",
    "\n",
    "p_d = p_b+p_c\n",
    "print(f'г) от одной до двух деталей =  {(p_d)*100:.1f}%')"
   ]
  }
 ],
 "metadata": {
  "kernelspec": {
   "display_name": "Python 3",
   "language": "python",
   "name": "python3"
  },
  "language_info": {
   "codemirror_mode": {
    "name": "ipython",
    "version": 3
   },
   "file_extension": ".py",
   "mimetype": "text/x-python",
   "name": "python",
   "nbconvert_exporter": "python",
   "pygments_lexer": "ipython3",
   "version": "3.11.3"
  }
 },
 "nbformat": 4,
 "nbformat_minor": 2
}
