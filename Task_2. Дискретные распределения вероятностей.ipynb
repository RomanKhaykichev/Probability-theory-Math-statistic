{
 "cells": [
  {
   "cell_type": "markdown",
   "metadata": {},
   "source": [
    "## Task_2. Дискретные распределения вероятностей"
   ]
  },
  {
   "cell_type": "code",
   "execution_count": 1,
   "metadata": {},
   "outputs": [],
   "source": [
    "from math import factorial as f"
   ]
  },
  {
   "cell_type": "markdown",
   "metadata": {},
   "source": [
    "$$C_n^k=\\frac{n!}{k!(n-k)!}$$"
   ]
  },
  {
   "cell_type": "code",
   "execution_count": 2,
   "metadata": {},
   "outputs": [],
   "source": [
    "# функция сочетания\n",
    "def C(k,n):\n",
    "    return f(n)/(f(k)*f(n-k))"
   ]
  },
  {
   "cell_type": "markdown",
   "metadata": {},
   "source": [
    "### 1. Вероятность того, что стрелок попадет в мишень, выстрелив один раз, равна 0.8. Стрелок выстрелил 100 раз. Найдите вероятность того, что стрелок попадет в цель ровно 85 раз."
   ]
  },
  {
   "cell_type": "markdown",
   "metadata": {},
   "source": [
    "$$P_n(X=k) = C_n^k*p^{k}*q^{(n-k)}$$"
   ]
  },
  {
   "cell_type": "markdown",
   "metadata": {},
   "source": [
    "Example: $$P_{100}(X=85) = C_{100}^{85}*0.8^{85}*(1-0.8)^{(100-85)} = \\frac{100!}{85!(100-85)!}*0.8^{85}*0.2^{15} = 2.533*0.8^{85}*0.2^{15} = 0.04806 \\approx 4.81\\%$$"
   ]
  },
  {
   "cell_type": "code",
   "execution_count": 3,
   "metadata": {},
   "outputs": [],
   "source": [
    "# формула Бернули\n",
    "def bernuli(k,n,p):\n",
    "    return C(k,n)*p**k*(1-p)**(n-k) # q = 1-p  - противоположная вероятность"
   ]
  },
  {
   "cell_type": "code",
   "execution_count": 13,
   "metadata": {},
   "outputs": [
    {
     "name": "stdout",
     "output_type": "stream",
     "text": [
      "Вероятность = 0.048061793700746355\n"
     ]
    }
   ],
   "source": [
    "p = 0.8 # вероятность наступления события\n",
    "n = 100 # число испытаний\n",
    "k = 85 # число наступления события\n",
    "pb = bernuli(k,n,p)\n",
    "print(f'Вероятность = {pb}')"
   ]
  },
  {
   "cell_type": "markdown",
   "metadata": {},
   "source": [
    "### 2. Вероятность того, что лампочка перегорит в течение первого дня эксплуатации, равна 0.0004. В жилом комплексе после ремонта в один день включили 5000 новых лампочек."
   ]
  },
  {
   "cell_type": "markdown",
   "metadata": {},
   "source": [
    "$$P_m \\approx\\frac{\\lambda^m}{m!}*e^{-\\lambda}; e \\approx 2.72$$"
   ]
  },
  {
   "cell_type": "code",
   "execution_count": 5,
   "metadata": {},
   "outputs": [],
   "source": [
    "# распределение Пуассона - большое колличество испытаний при маленькой вероятности\n",
    "def puassona(l,m):\n",
    "    return l**m/f(m)*2.72**(-l)"
   ]
  },
  {
   "cell_type": "markdown",
   "metadata": {},
   "source": [
    "Какова вероятность, что ни одна из них не перегорит в первый день?"
   ]
  },
  {
   "cell_type": "code",
   "execution_count": 14,
   "metadata": {},
   "outputs": [
    {
     "name": "stdout",
     "output_type": "stream",
     "text": [
      "Вероятность = 0.13516435986159167\n"
     ]
    }
   ],
   "source": [
    "p = 0.0004 # вероятность наступления события\n",
    "n = 5000 # колличество\n",
    "l = n * p # среднее колличество наступлений событий\n",
    "m = 0 # колличество лампочек\n",
    "pm = puassona(l,m)\n",
    "print(f'Вероятность = {pm}')"
   ]
  },
  {
   "cell_type": "markdown",
   "metadata": {},
   "source": [
    "Какова вероятность, что перегорят ровно две?"
   ]
  },
  {
   "cell_type": "code",
   "execution_count": 15,
   "metadata": {},
   "outputs": [
    {
     "name": "stdout",
     "output_type": "stream",
     "text": [
      "Вероятность = 0.27032871972318334\n"
     ]
    }
   ],
   "source": [
    "m = 2 # колличество лампочек\n",
    "pm = puassona(l,m)\n",
    "print(f'Вероятность = {pm}')"
   ]
  },
  {
   "cell_type": "markdown",
   "metadata": {},
   "source": [
    "### 3. Монету подбросили 144 раза. Какова вероятность, что орел выпадет ровно 70 раз?"
   ]
  },
  {
   "cell_type": "code",
   "execution_count": 16,
   "metadata": {},
   "outputs": [
    {
     "name": "stdout",
     "output_type": "stream",
     "text": [
      "Вероятность = 0.06281178035144776\n"
     ]
    }
   ],
   "source": [
    "n = 144\n",
    "k = 70\n",
    "p = 0.5 # орел/орешка = 1/2\n",
    "pb = bernuli(k,n,p)\n",
    "print(f'Вероятность = {pb}')"
   ]
  },
  {
   "cell_type": "markdown",
   "metadata": {},
   "source": [
    "### 4. В первом ящике находится 10 мячей, из которых 7 - белые. Во втором ящике - 11 мячей, из которых 9 белых. Из каждого ящика вытаскивают случайным образом по два мяча."
   ]
  },
  {
   "cell_type": "markdown",
   "metadata": {},
   "source": [
    "$$P(A)=P(B_1)*P(B_2)$$"
   ]
  },
  {
   "cell_type": "code",
   "execution_count": 9,
   "metadata": {},
   "outputs": [],
   "source": [
    "# случайным образом вытаскиваем по 2 мяча\n",
    "# 10 мячей = 7 белых + 3 черных\n",
    "# 11 мячей = 9 белых + 2 черных"
   ]
  },
  {
   "cell_type": "markdown",
   "metadata": {},
   "source": [
    "Какова вероятность того, что все мячи белые?"
   ]
  },
  {
   "cell_type": "code",
   "execution_count": 17,
   "metadata": {},
   "outputs": [
    {
     "name": "stdout",
     "output_type": "stream",
     "text": [
      "Вероятность = 0.3054545454545454\n"
     ]
    }
   ],
   "source": [
    "# p = бб*бб\n",
    "p = 7/10*6/9 * 9/11*8/10\n",
    "print(f'Вероятность = {p}')"
   ]
  },
  {
   "cell_type": "markdown",
   "metadata": {},
   "source": [
    "Какова вероятность того, что ровно два мяча белые?"
   ]
  },
  {
   "cell_type": "code",
   "execution_count": 18,
   "metadata": {},
   "outputs": [
    {
     "name": "stdout",
     "output_type": "stream",
     "text": [
      "Вероятность = 0.20484848484848484\n"
     ]
    }
   ],
   "source": [
    "# p = (бб*чч) + (бч*бч) + (бч*чб) + (чб*бч) + (чб*чб) + (чч*бб)\n",
    "p = (7/10*6/9 * 2/11*1/10) + (7/10*3/9 * 9/11*2/10) + (7/10*3/9 * 2/11*9/10) + (3/10*7/9 * 9/11*2/10) + (3/10*7/9 * 2/11*9/10) + (3/10*2/9 * 9/11*8/10)\n",
    "print(f'Вероятность = {p}')"
   ]
  },
  {
   "cell_type": "markdown",
   "metadata": {},
   "source": [
    "Какова вероятность того, что хотя бы один мяч белый?"
   ]
  },
  {
   "cell_type": "code",
   "execution_count": 19,
   "metadata": {},
   "outputs": [
    {
     "name": "stdout",
     "output_type": "stream",
     "text": [
      "Вероятность = 0.9987878787878788\n"
     ]
    }
   ],
   "source": [
    "# р = 1 - чч*чч\n",
    "p = 1 - 3/10*2/9 * 2/11*1/10\n",
    "print(f'Вероятность = {p}')"
   ]
  }
 ],
 "metadata": {
  "kernelspec": {
   "display_name": "Python 3",
   "language": "python",
   "name": "python3"
  },
  "language_info": {
   "codemirror_mode": {
    "name": "ipython",
    "version": 3
   },
   "file_extension": ".py",
   "mimetype": "text/x-python",
   "name": "python",
   "nbconvert_exporter": "python",
   "pygments_lexer": "ipython3",
   "version": "3.11.3"
  }
 },
 "nbformat": 4,
 "nbformat_minor": 2
}
