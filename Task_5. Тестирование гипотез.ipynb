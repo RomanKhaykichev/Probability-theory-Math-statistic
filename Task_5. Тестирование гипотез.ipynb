{
 "cells": [
  {
   "cell_type": "markdown",
   "metadata": {},
   "source": [
    "## Task_5. Тестирование гипотез"
   ]
  },
  {
   "cell_type": "code",
   "execution_count": 3,
   "metadata": {},
   "outputs": [],
   "source": [
    "import numpy as np\n",
    "# import scipy.stats as stats\n",
    "from scipy import stats\n",
    "import pylab"
   ]
  },
  {
   "cell_type": "markdown",
   "metadata": {},
   "source": [
    "### 1. Когда используется критерий Стьюдента, а когда Z –критерий?"
   ]
  },
  {
   "cell_type": "markdown",
   "metadata": {},
   "source": [
    "<u>**_z - критерий_**</u><p>\n",
    "Закон Z-критерия используется для проверки гипотезы о равенстве среднего значения генеральной совокупности с известным значением.\n",
    "* $\\sigma$ генеральной совокупность известна\n",
    "* размер выборки велик\n",
    "\n",
    "<u>**_критерий Стьюдента_**</u> <p>\n",
    "Критерий Стьюдента используется для сравнения средних значений двух групп. Также его можно использовать для сравнения средних значений двух выборок, если данные для двух групп распределены нормально\n",
    "* $\\sigma$ генеральной совокупность не известна\n",
    "* оценка статистической значимости разности 2-х выборочных средних\n",
    "* если колличество элементов выборки $\\leq$ 30, распределение средних не будет являться нормальным"
   ]
  },
  {
   "cell_type": "markdown",
   "metadata": {},
   "source": [
    "**_Задачи 2,3 решать вручную_**"
   ]
  },
  {
   "cell_type": "markdown",
   "metadata": {},
   "source": [
    "### 2. Проведите тест гипотезы.<p> Утверждается, что шарики для подшипников, изготовленные автоматическим станком, имеют средний диаметр 17 мм. Используя односторонний критерий с α=0,05, проверить эту гипотезу, если в выборке из n=100 шариков средний диаметр оказался равным 17.5 мм, а дисперсия известна и равна 4 кв. мм."
   ]
  },
  {
   "cell_type": "markdown",
   "metadata": {},
   "source": [
    "$H_0:\\mu_1=\\mu_0$<p>\n",
    "$H_1:\\mu_1>\\mu_0$<p>\n",
    "\n",
    "$$z_n=\\frac{\\bar{x}-\\mu}{\\sigma/\\sqrt{n}}$$\n",
    "$\\frac{\\sigma}{\\sqrt{n}}$ - стандартная ошибка среднего"
   ]
  },
  {
   "cell_type": "code",
   "execution_count": 25,
   "metadata": {},
   "outputs": [
    {
     "name": "stdout",
     "output_type": "stream",
     "text": [
      "z(2.5)\n"
     ]
    }
   ],
   "source": [
    "mu = 17\n",
    "l = 0.05 # статистическая значимость\n",
    "n = 100\n",
    "x = 17.5\n",
    "D = 4 # стандартное отклонение = корень из дисперсии\n",
    "\n",
    "se = (D / n) ** 0.5\n",
    "z = (x-mu) / se\n",
    "print(f'z({z})')"
   ]
  },
  {
   "cell_type": "markdown",
   "metadata": {},
   "source": [
    "z(2.5) = 0.99379<p>\n",
    "так как p-value > $\\alpha$ => 0.99379 > 0.05, то принемаем нулевую гипотезу.\n",
    "\n",
    "Вывод: Альтернативную гипотезу отвергаем. Шарики для подшипников, изготовленные автоматическим станком, не имеют средний диаметр 17 мм при полученных данных"
   ]
  },
  {
   "cell_type": "code",
   "execution_count": 27,
   "metadata": {},
   "outputs": [
    {
     "data": {
      "text/plain": [
       "0.9937903346742238"
      ]
     },
     "execution_count": 27,
     "metadata": {},
     "output_type": "execute_result"
    }
   ],
   "source": [
    "stats.norm.cdf(2.5)"
   ]
  },
  {
   "cell_type": "markdown",
   "metadata": {},
   "source": [
    "### 3. Проведите тест гипотезы.<p>Продавец утверждает, что средний вес пачки печенья составляет 200 г. Из партии извлечена выборка из 10 пачек. Вес каждой пачки составляет: 202, 203, 199, 197, 195, 201, 200, 204, 194, 190. Известно, что их веса распределены нормально. Верно ли утверждение продавца, если учитывать, что доверительная вероятность равна 99%? (Провести двусторонний тест.)"
   ]
  },
  {
   "cell_type": "markdown",
   "metadata": {},
   "source": [
    "$H_0:\\mu_1 = \\mu_0$<p>\n",
    "$H_1:\\mu_1 \\neq \\mu_0$<p>"
   ]
  },
  {
   "cell_type": "markdown",
   "metadata": {},
   "source": [
    "$$t_н=\\frac{\\bar{x}-\\mu}{\\sigma_н/\\sqrt{n}}$$\n",
    "$\\sigma_н$ - стандартное несмещенное отклонение, рассчитанное по выборке<p>\n",
    "$s^2 = \\frac{\\sum_{i=1}^n(x_i-\\bar{x})^2}{n-1}$"
   ]
  },
  {
   "cell_type": "markdown",
   "metadata": {},
   "source": [
    "${\\sigma_н/\\sqrt{n}} = s/\\sqrt{n} = \\sqrt{s^2/n}$"
   ]
  },
  {
   "cell_type": "code",
   "execution_count": 20,
   "metadata": {},
   "outputs": [
    {
     "data": {
      "text/plain": [
       "-1.0651074037450896"
      ]
     },
     "execution_count": 20,
     "metadata": {},
     "output_type": "execute_result"
    }
   ],
   "source": [
    "mu = 200\n",
    "n = 10\n",
    "x = np.array([202, 203, 199, 197, 195, 201, 200, 204, 194, 190])\n",
    "\n",
    "def D_s_pow(arr, mean):\n",
    "    D = 0\n",
    "    for i in arr:\n",
    "        D += (i - mean) ** 2\n",
    "    return D / (len(arr) - 1)\n",
    "\n",
    "x_mean = np.mean(x)\n",
    "x_std = D_s_pow(x, x_mean)\n",
    "t = (x_mean - mu) / (x_std / len(x)) ** 0.5\n",
    "t"
   ]
  },
  {
   "cell_type": "markdown",
   "metadata": {},
   "source": [
    "n - 1 = 9 - число степеней свобод<p>\n",
    "0.99 доверительная вероятность<p>\n",
    "Уровень значимости α - это вероятность, с которой значение параметра не попадает в доверительный интервал (Уровень доверия β = 1 − α)<p>\n",
    "$\\alpha$ = 1 - 0.99 = 0.01"
   ]
  },
  {
   "cell_type": "markdown",
   "metadata": {},
   "source": [
    "По таблице Стьюдента:<p>\n",
    "$t_\\alpha$ = 3.25 - при числе степеней свободы 9 и уровня значимости 0.01<p>\n",
    "-3.25 < -1.065 < 3.25 "
   ]
  },
  {
   "cell_type": "markdown",
   "metadata": {},
   "source": [
    "Вывод: Так как t не попадает в критичную область ($-\\infty; -3.25$) U ($3.25; +\\infty;$), то нулевая гипотеза верна."
   ]
  },
  {
   "cell_type": "markdown",
   "metadata": {},
   "source": [
    "+ по функциям"
   ]
  },
  {
   "cell_type": "code",
   "execution_count": 6,
   "metadata": {},
   "outputs": [
    {
     "name": "stdout",
     "output_type": "stream",
     "text": [
      "-3.25 < -1.07 < 3.25\n"
     ]
    }
   ],
   "source": [
    "# Ver_2\n",
    "# np.std(x, ddof = 1) # D\n",
    "# np.var(x, ddof = 1) # D ** 2\n",
    "t_2 = (np.mean(x) - mu) / np.sqrt(np.var(x, ddof=1) / len(x))\n",
    "t_l = stats.t.ppf(0.005, n - 1) # t значение для уровня значимости 0.005 (двусторонний) и кол-во 9\n",
    "print(f'{t_l:.2f} < {t_2:.2f} < {-t_l:.2f}')"
   ]
  },
  {
   "cell_type": "code",
   "execution_count": 7,
   "metadata": {},
   "outputs": [
    {
     "data": {
      "text/plain": [
       "0.005079328979554218"
      ]
     },
     "execution_count": 7,
     "metadata": {},
     "output_type": "execute_result"
    }
   ],
   "source": [
    "stats.t.cdf(-3.24,9) # из t значения -> уровень значимости"
   ]
  },
  {
   "cell_type": "code",
   "execution_count": 8,
   "metadata": {},
   "outputs": [
    {
     "data": {
      "text/plain": [
       "0.3145666035247285"
      ]
     },
     "execution_count": 8,
     "metadata": {},
     "output_type": "execute_result"
    }
   ],
   "source": [
    "stats.t.cdf(-1.0651074037450896, 9)*2 # pvalue для двустороннего теста"
   ]
  },
  {
   "cell_type": "code",
   "execution_count": 9,
   "metadata": {},
   "outputs": [
    {
     "data": {
      "text/plain": [
       "TtestResult(statistic=-1.0651074037450894, pvalue=0.31456660352472854, df=9)"
      ]
     },
     "execution_count": 9,
     "metadata": {},
     "output_type": "execute_result"
    }
   ],
   "source": [
    "stats.ttest_1samp(x, mu)"
   ]
  },
  {
   "cell_type": "markdown",
   "metadata": {},
   "source": [
    "![studenta](studenta.png)"
   ]
  },
  {
   "cell_type": "markdown",
   "metadata": {},
   "source": [
    "_Задачу 4 решать с помощью функции._"
   ]
  },
  {
   "cell_type": "markdown",
   "metadata": {},
   "source": [
    "### 4. Есть ли статистически значимые различия в росте дочерей?\n",
    "Рост матерей 172, 177, 158, 170, 178,175, 164, 160, 169, 165<p>\n",
    "Рост взрослых дочерей: 173, 175, 162, 174, 175, 168, 155, 170, 160"
   ]
  },
  {
   "cell_type": "markdown",
   "metadata": {},
   "source": [
    "$H_0:\\mu_1 = \\mu_0$ - Различий нет<p>\n",
    "$H_1:\\mu_1 \\neq \\mu_0$<p>"
   ]
  },
  {
   "cell_type": "code",
   "execution_count": 10,
   "metadata": {},
   "outputs": [
    {
     "data": {
      "text/plain": [
       "TtestResult(statistic=0.24400587215969016, pvalue=0.8101467126543233, df=17.0)"
      ]
     },
     "execution_count": 10,
     "metadata": {},
     "output_type": "execute_result"
    }
   ],
   "source": [
    "m = height_mother = [172, 177, 158, 170, 178, 175, 164, 160, 169, 165]\n",
    "d = height_daughter = [173, 175, 162, 174, 175, 168, 155, 170, 160]\n",
    "\n",
    "# Двухвыборочный тест с независимыми выборками (для зависимых - stats.ttest_rel())\n",
    "stats.ttest_ind(height_mother, height_daughter)"
   ]
  },
  {
   "cell_type": "markdown",
   "metadata": {},
   "source": [
    "Принимаем $\\alpha$ = 0.05<p>\n",
    "Вывод: Так как pvalue > $\\alpha$, то нулева гипотеза верна - статистически значимых различий нет. "
   ]
  },
  {
   "cell_type": "markdown",
   "metadata": {},
   "source": [
    ">> Доп. инф"
   ]
  },
  {
   "cell_type": "code",
   "execution_count": 11,
   "metadata": {},
   "outputs": [
    {
     "data": {
      "text/plain": [
       "(ShapiroResult(statistic=0.9526640176773071, pvalue=0.7000676393508911),\n",
       " ShapiroResult(statistic=0.879397988319397, pvalue=0.15474608540534973))"
      ]
     },
     "execution_count": 11,
     "metadata": {},
     "output_type": "execute_result"
    }
   ],
   "source": [
    "# Тест Шапиро-Уилка\n",
    "m_s = stats.shapiro(m)\n",
    "d_s = stats.shapiro(d)\n",
    "m_s, d_s"
   ]
  },
  {
   "cell_type": "markdown",
   "metadata": {},
   "source": [
    "QQ график (кватиль-квантиль)"
   ]
  },
  {
   "cell_type": "code",
   "execution_count": 12,
   "metadata": {},
   "outputs": [
    {
     "data": {
      "image/png": "[encoded data removed]",
      "text/plain": [
       "<Figure size 640x480 with 1 Axes>"
      ]
     },
     "metadata": {},
     "output_type": "display_data"
    }
   ],
   "source": [
    "stats.probplot(m, dist = \"norm\", plot = pylab);\n",
    "stats.probplot(d, dist = \"norm\", plot = pylab);"
   ]
  },
  {
   "cell_type": "markdown",
   "metadata": {},
   "source": [
    "## Seminar_5"
   ]
  },
  {
   "cell_type": "markdown",
   "metadata": {},
   "source": [
    "### Ниже приведены диаметры коронарных артерий после приема нифедипина и плацебо. Позволяют ли приводимые ниже данные утверждать, что нифедипин влияет на диаметр коронарных артерий?\n"
   ]
  },
  {
   "cell_type": "markdown",
   "metadata": {},
   "source": [
    "$$t=\\frac{\\bar{x_1}-\\bar{x_2}}{\\sqrt{\\frac{s_1^2}{n_1}+\\frac{s_2^2}{n_2}}}; s^2 = \\frac{\\sum_{i=1}^n(x_i-\\bar{x})^2}{n-1}; se=\\frac{std}{\\sqrt{n}}; std=\\sqrt{D}$$"
   ]
  },
  {
   "cell_type": "code",
   "execution_count": 13,
   "metadata": {},
   "outputs": [
    {
     "name": "stdout",
     "output_type": "stream",
     "text": [
      "1.3283\n"
     ]
    }
   ],
   "source": [
    "x = np.array([2.5, 2.2, 2.6, 2, 2.1, 1.8,2.4, 2.3, 2.7, 2.7, 1.9])\n",
    "y = np.array([2.5, 1.7, 1.5, 2.5, 1.4, 1.9, 2.3, 2.0, 2.6, 2.3, 2.2])\n",
    "\n",
    "def D_vibor(arr, mu):\n",
    "    D = 0\n",
    "    for i in arr:\n",
    "        D += (mu - i) ** 2\n",
    "    D /= (len(arr) - 1)\n",
    "    return D ** 0.5\n",
    "\n",
    "x_mean = np.mean(x)\n",
    "y_mean = np.mean(y)\n",
    "a = 0.05\n",
    "std_x = D_vibor(x, x_mean)\n",
    "std_y = D_vibor(y, y_mean)\n",
    "D = (std_x ** 2 + std_y ** 2) / 2\n",
    "t = (x_mean - y_mean) / (2 * D / len(x)) ** 0.5\n",
    "\n",
    "print(f'{t:.4f}')"
   ]
  }
 ],
 "metadata": {
  "kernelspec": {
   "display_name": "Python 3",
   "language": "python",
   "name": "python3"
  },
  "language_info": {
   "codemirror_mode": {
    "name": "ipython",
    "version": 3
   },
   "file_extension": ".py",
   "mimetype": "text/x-python",
   "name": "python",
   "nbconvert_exporter": "python",
   "pygments_lexer": "ipython3",
   "version": "3.11.3"
  }
 },
 "nbformat": 4,
 "nbformat_minor": 2
}
