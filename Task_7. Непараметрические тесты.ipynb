{
 "cells": [
  {
   "cell_type": "markdown",
   "metadata": {},
   "source": [
    "## Урок 7. Непараметрические тесты"
   ]
  },
  {
   "cell_type": "code",
   "execution_count": 27,
   "metadata": {},
   "outputs": [],
   "source": [
    "import numpy as np\n",
    "import scipy.stats as stats"
   ]
  },
  {
   "cell_type": "markdown",
   "metadata": {},
   "source": [
    "_1-4 задачи решать с помощью функций, 5ю вручную_\n",
    "### Выбрать тест и проверить, есть  ли различия между выборками:"
   ]
  },
  {
   "cell_type": "markdown",
   "metadata": {},
   "source": [
    "### 1)  Даны две  независимые выборки. Не соблюдается условие нормальности\n",
    "x1  380,420, 290<p>\n",
    "y1 140,360,200,900\n",
    "\n",
    "Сделайте вывод по результатам, полученным с помощью функции"
   ]
  },
  {
   "cell_type": "code",
   "execution_count": 62,
   "metadata": {},
   "outputs": [
    {
     "name": "stdout",
     "output_type": "stream",
     "text": [
      "MannwhitneyuResult(statistic=8.0, pvalue=0.6285714285714286)\n",
      "Так как pvalue > 0.05, то принимаем нулевую гипотезу: Выборки статистически значимы.\n"
     ]
    }
   ],
   "source": [
    "x_1 = np.array([380, 420, 290])\n",
    "y_1 = np.array([140, 360, 200, 900])\n",
    "\n",
    "# критерий Манна Уитни\n",
    "s_M = stats.mannwhitneyu(x_1, y_1)\n",
    "print(s_M)\n",
    "\n",
    "# Принимаем статистическую значимость alpha = 0.05 \n",
    "print('Так как pvalue > 0.05, то принимаем нулевую гипотезу: Выборки статистически значимы.')"
   ]
  },
  {
   "cell_type": "markdown",
   "metadata": {},
   "source": [
    "### 2) Исследовалось влияние препарата на уровень давления пациентов. Сначала измерялось давление до приема препарата, потом через 10 минут и через 30 минут. Есть ли статистически значимые различия?\n",
    "\n",
    "1е измерение до приема препарата: 150, 160, 165, 145, 155<p>\n",
    "2е измерение через 10 минут: 140, 155, 150,  130, 135<p>\n",
    "3е измерение через 30 минут: 130, 130, 120, 130, 125"
   ]
  },
  {
   "cell_type": "markdown",
   "metadata": {},
   "source": [
    "$$x^2_r = \\frac{12}{n\\cdot k(k+1)}\\cdot\\sum(R_i-\\bar{R})^2; \\bar{R} = \\frac{n(k+1)}{2}$$\n",
    "\n",
    "$\\bar{R}$ - средний ранг<p>\n",
    "n - объем выборки<p>\n",
    "k - число сравниваемых групп<p>\n",
    "$R_i$ - сумма рангов по подгруппам"
   ]
  },
  {
   "cell_type": "code",
   "execution_count": 63,
   "metadata": {},
   "outputs": [
    {
     "name": "stdout",
     "output_type": "stream",
     "text": [
      "FriedmanchisquareResult(statistic=9.578947368421062, pvalue=0.00831683351100441)\n",
      "Так как pvalue < 0.05, то принимаем альтернативную гипотезу: Выборки не являются статистически значимыми.\n"
     ]
    }
   ],
   "source": [
    "first = np.array([150, 160, 165, 145, 155])\n",
    "second_10 = np.array([140, 155, 150,  130, 135])\n",
    "third_30 = np.array([130, 130, 120, 130, 125])\n",
    "\n",
    "# критерий Фридмана\n",
    "s_F = stats.friedmanchisquare(first, second_10, third_30)\n",
    "print(s_F)\n",
    "\n",
    "# Принимаем статистическую значимость alpha = 0.05 \n",
    "print('Так как pvalue < 0.05, то принимаем альтернативную гипотезу: Выборки не являются статистически значимыми.')"
   ]
  },
  {
   "cell_type": "markdown",
   "metadata": {},
   "source": [
    "### 3) Сравните 1 и 2 е измерения, предполагая, что 3го измерения через 30 минут не было."
   ]
  },
  {
   "cell_type": "code",
   "execution_count": 64,
   "metadata": {},
   "outputs": [
    {
     "name": "stdout",
     "output_type": "stream",
     "text": [
      "WilcoxonResult(statistic=0.0, pvalue=0.0625)\n",
      "Так как pvalue > 0.05, то принимаем нулевую гипотезу: Выборки статистически значимы.\n"
     ]
    }
   ],
   "source": [
    "# критерий Уилкоксона\n",
    "s_W = stats.wilcoxon(first, second_10)\n",
    "print(s_W)\n",
    "\n",
    "# Принимаем статистическую значимость alpha = 0.05 \n",
    "print('Так как pvalue > 0.05, то принимаем нулевую гипотезу: Выборки статистически значимы.')"
   ]
  },
  {
   "cell_type": "markdown",
   "metadata": {},
   "source": [
    "### 4) Даны 3 группы  учеников плавания.\n",
    "В 1 группе время на дистанцию 50 м составляют: 56, 60, 62, 55, 71, 67, 59, 58, 64, 67<p>\n",
    "Вторая группа : 57, 58, 69, 48, 72, 70, 68, 71, 50, 53<p>\n",
    "Третья группа: 57, 67, 49, 48, 47, 55, 66, 51, 54<p>"
   ]
  },
  {
   "cell_type": "markdown",
   "metadata": {},
   "source": [
    "$$H = \\frac{12}{N(N+1)}\\cdot\\sum^{k_j}_{i=1}\\frac{T^2_j}{n_j}-3(N+1)$$\n",
    "\n",
    "N - общее число измерений<p>\n",
    "$k_j$ - объем j-ой выборки<p>\n",
    "$T_j$ - сумма рангов в каждой выборке"
   ]
  },
  {
   "cell_type": "code",
   "execution_count": 65,
   "metadata": {},
   "outputs": [
    {
     "name": "stdout",
     "output_type": "stream",
     "text": [
      "KruskalResult(statistic=5.465564058257224, pvalue=0.06503809985904942)\n",
      "Так как pvalue > 0.05, то принимаем нулевую гипотезу: Выборки статистически значимы.\n"
     ]
    }
   ],
   "source": [
    "st_1 = np.array([56, 60, 62, 55, 71, 67, 59, 58, 64, 67])\n",
    "st_2 = np.array([57, 58, 69, 48, 72, 70, 68, 71, 50, 53])\n",
    "st_3 = np.array([57, 67, 49, 48, 47, 55, 66, 51, 54])\n",
    "\n",
    "# критерий Крускала - Уоллиса\n",
    "s_K = stats.kruskal(st_1, st_2, st_3)\n",
    "print(s_K)\n",
    "\n",
    "# Принимаем статистическую значимость alpha = 0.05 \n",
    "print('Так как pvalue > 0.05, то принимаем нулевую гипотезу: Выборки статистически значимы.')"
   ]
  },
  {
   "cell_type": "markdown",
   "metadata": {},
   "source": [
    "### 5) Заявляется, что партия изготавливается со средним арифметическим 2,5 см. Проверить данную гипотезу, если известно, что размеры изделий подчинены нормальному закону распределения. Объем выборки 10, уровень статистической значимости 5%\n",
    "\n",
    "2.51, 2.35, 2.74, 2.56, 2.40, 2.36, 2.65, 2.7, 2.67, 2.34"
   ]
  },
  {
   "cell_type": "markdown",
   "metadata": {},
   "source": [
    "$$t_н=\\frac{\\bar{x}-\\mu}{\\sigma_н/\\sqrt{n}}$$"
   ]
  },
  {
   "cell_type": "markdown",
   "metadata": {},
   "source": [
    "$H_0:\\mu_1 = \\mu_0$<p>\n",
    "$H_1:\\mu_1 \\neq \\mu_0$<p>"
   ]
  },
  {
   "cell_type": "code",
   "execution_count": 66,
   "metadata": {},
   "outputs": [
    {
     "name": "stdout",
     "output_type": "stream",
     "text": [
      "t статистичекое 0.5630613661802959\n",
      "t критическое 1.8331129326536333\n",
      "Так как 0.56 < 1.83 (не попадает в критичную область), то принимается нулевая гипотеза - партия изготавливается со средним арифметическим 2,5 см\n"
     ]
    }
   ],
   "source": [
    "alpha = 0.05\n",
    "mu = 2.5\n",
    "n = 10\n",
    "arr = np.array([2.51, 2.35, 2.74, 2.56, 2.40, 2.36, 2.65, 2.7, 2.67, 2.34])\n",
    "\n",
    "t = (np.mean(arr) - mu ) / (np.std(arr, ddof = 1) / np.sqrt(n))\n",
    "t_alpha = stats.t.ppf(1 - alpha, n - 1)\n",
    "\n",
    "print(f't статистичекое {t}')\n",
    "print(f't критическое {t_alpha}')\n",
    "print(f'Так как {t:.2f} < {t_alpha:.2f} (не попадает в критичную область), то принимается нулевая гипотеза - партия изготавливается со средним арифметическим 2,5 см')"
   ]
  }
 ],
 "metadata": {
  "kernelspec": {
   "display_name": "Python 3",
   "language": "python",
   "name": "python3"
  },
  "language_info": {
   "codemirror_mode": {
    "name": "ipython",
    "version": 3
   },
   "file_extension": ".py",
   "mimetype": "text/x-python",
   "name": "python",
   "nbconvert_exporter": "python",
   "pygments_lexer": "ipython3",
   "version": "3.11.3"
  }
 },
 "nbformat": 4,
 "nbformat_minor": 2
}
